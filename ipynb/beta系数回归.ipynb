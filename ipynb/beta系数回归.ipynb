{
 "cells": [
  {
   "cell_type": "code",
   "execution_count": 1,
   "metadata": {},
   "outputs": [],
   "source": [
    "# -*- coding:utf-8 -*-\n",
    "from statsmodels.tsa.stattools import adfuller\n",
    "import statsmodels.tsa.stattools as ta\n",
    "import statsmodels.api as sm\n",
    "import pandas as pd\n",
    "import matplotlib.pyplot as plt\n",
    "import numpy as np\n",
    "from statsmodels.graphics.tsaplots import plot_acf, plot_pacf\n",
    "import os"
   ]
  },
  {
   "cell_type": "code",
   "execution_count": 2,
   "metadata": {},
   "outputs": [],
   "source": [
    "path='C:/Users/dsquant06/Desktop/test/month.csv'\n",
    "dependent=['premium']\n",
    "independent=['MKT']\n",
    "#第二步需要用r-rf-beta*MKT求得回归方程的左侧\n",
    "independent0=['roic_ttm', 'size', 'book_to_price_ratio', 'beta','MKT']#这一项是接下来回归的右侧的几个因子"
   ]
  },
  {
   "cell_type": "code",
   "execution_count": 3,
   "metadata": {},
   "outputs": [],
   "source": [
    "#表格规整\n",
    "def messup(df,path):\n",
    "    for i in range(10):\n",
    "        if 'Unnamed: 0' in df.columns.values:\n",
    "            df.drop(columns='Unnamed: 0',axis=1,inplace=True)\n",
    "            print('已删除多余的Unnamed: 0列')\n",
    "        elif 'Unnamed: 0.1' in df.columns.values:\n",
    "            df.drop(columns='Unnamed: 0.1',axis=1,inplace=True)\n",
    "            print('已删除多余的Unnamed: 0.1列')\n",
    "        elif 'Unnamed: 0.1.1' in df.columns.values:\n",
    "            df.drop(columns='Unnamed: 0.1.1',axis=1,inplace=True)\n",
    "            print('已删除多余的Unnamed: 0.1.1列')\n",
    "        elif 'Unnamed: 0.1.1.1' in df.columns.values:\n",
    "            df.drop(columns='Unnamed: 0.1.1.1',axis=1,inplace=True)\n",
    "            print('已删除多余的Unnamed: 0.1.1.1列')\n",
    "        elif 'Unnamed: 0.1.1.1.1' in df.columns.values:\n",
    "            df.drop(columns='Unnamed: 0.1.1.1.1',axis=1,inplace=True)\n",
    "            print('已删除多余的Unnamed: 0.1.1.1.1列')\n",
    "    if (os.path.exists(path)):\n",
    "        os.remove(path)"
   ]
  },
  {
   "cell_type": "code",
   "execution_count": 4,
   "metadata": {},
   "outputs": [],
   "source": [
    "df=pd.read_csv(path)"
   ]
  },
  {
   "cell_type": "code",
   "execution_count": 5,
   "metadata": {},
   "outputs": [],
   "source": [
    "x=df[independent]\n",
    "y=df[dependent]"
   ]
  },
  {
   "cell_type": "code",
   "execution_count": 6,
   "metadata": {},
   "outputs": [],
   "source": [
    "#model=sm.OLS(pd.DataFrame(df.loc[:,['open']].values.T).values[0],pd.DataFrame(df.loc[:,['t']].values.T).values[0])\n",
    "#首先将premium作为因变量，将MKT作为自变量，做回归所得到自变量前的系数为所求的beta_buffet\n",
    "x=sm.add_constant(x)\n",
    "reg=sm.OLS(y,x).fit()"
   ]
  },
  {
   "cell_type": "code",
   "execution_count": 7,
   "metadata": {},
   "outputs": [
    {
     "name": "stdout",
     "output_type": "stream",
     "text": [
      "                            OLS Regression Results                            \n",
      "==============================================================================\n",
      "Dep. Variable:                premium   R-squared:                       0.575\n",
      "Model:                            OLS   Adj. R-squared:                  0.570\n",
      "Method:                 Least Squares   F-statistic:                     123.0\n",
      "Date:                Sun, 03 Nov 2019   Prob (F-statistic):           1.38e-18\n",
      "Time:                        14:58:28   Log-Likelihood:                 160.96\n",
      "No. Observations:                  93   AIC:                            -317.9\n",
      "Df Residuals:                      91   BIC:                            -312.9\n",
      "Df Model:                           1                                         \n",
      "Covariance Type:            nonrobust                                         \n",
      "==============================================================================\n",
      "                 coef    std err          t      P>|t|      [0.025      0.975]\n",
      "------------------------------------------------------------------------------\n",
      "const          0.0124      0.004      2.760      0.007       0.003       0.021\n",
      "MKT            0.5593      0.050     11.090      0.000       0.459       0.660\n",
      "==============================================================================\n",
      "Omnibus:                       17.642   Durbin-Watson:                   2.081\n",
      "Prob(Omnibus):                  0.000   Jarque-Bera (JB):               25.318\n",
      "Skew:                           0.855   Prob(JB):                     3.18e-06\n",
      "Kurtosis:                       4.899   Cond. No.                         11.2\n",
      "==============================================================================\n",
      "\n",
      "Warnings:\n",
      "[1] Standard Errors assume that the covariance matrix of the errors is correctly specified.\n"
     ]
    }
   ],
   "source": [
    "print(reg.summary())"
   ]
  },
  {
   "cell_type": "code",
   "execution_count": 8,
   "metadata": {},
   "outputs": [
    {
     "data": {
      "text/plain": [
       "const    0.012406\n",
       "MKT      0.559342\n",
       "dtype: float64"
      ]
     },
     "execution_count": 8,
     "metadata": {},
     "output_type": "execute_result"
    }
   ],
   "source": [
    "#可以看出beta_buffet为0.5593,且结果是显著的\n",
    "reg.params"
   ]
  },
  {
   "cell_type": "code",
   "execution_count": null,
   "metadata": {},
   "outputs": [],
   "source": []
  },
  {
   "cell_type": "code",
   "execution_count": 9,
   "metadata": {},
   "outputs": [],
   "source": [
    "\n",
    "x1=df[independent0]\n",
    "y1=df.apply(lambda x: x['premium']-(reg.params[independent])*(x['MKT']), axis=1)#这一项是r-rf-beta*MKT左侧的值"
   ]
  },
  {
   "cell_type": "code",
   "execution_count": 10,
   "metadata": {},
   "outputs": [],
   "source": [
    "x1=sm.add_constant(x1)\n",
    "reg1=sm.OLS(y1,x1).fit()"
   ]
  },
  {
   "cell_type": "code",
   "execution_count": 11,
   "metadata": {},
   "outputs": [
    {
     "name": "stdout",
     "output_type": "stream",
     "text": [
      "                            OLS Regression Results                            \n",
      "==============================================================================\n",
      "Dep. Variable:                    MKT   R-squared:                       0.238\n",
      "Model:                            OLS   Adj. R-squared:                  0.184\n",
      "Method:                 Least Squares   F-statistic:                     4.466\n",
      "Date:                Sun, 03 Nov 2019   Prob (F-statistic):           0.000556\n",
      "Time:                        14:58:29   Log-Likelihood:                 173.57\n",
      "No. Observations:                  93   AIC:                            -333.1\n",
      "Df Residuals:                      86   BIC:                            -315.4\n",
      "Df Model:                           6                                         \n",
      "Covariance Type:            nonrobust                                         \n",
      "=======================================================================================\n",
      "                          coef    std err          t      P>|t|      [0.025      0.975]\n",
      "---------------------------------------------------------------------------------------\n",
      "const                   0.0120      0.004      2.916      0.005       0.004       0.020\n",
      "roe_ttm                -0.1299      0.101     -1.286      0.202      -0.331       0.071\n",
      "size                    0.0695      0.049      1.417      0.160      -0.028       0.167\n",
      "book_to_price_ratio    -0.2010      0.057     -3.530      0.001      -0.314      -0.088\n",
      "beta                   -0.1283      0.068     -1.883      0.063      -0.264       0.007\n",
      "momentum                0.0719      0.075      0.961      0.339      -0.077       0.221\n",
      "MKT                     0.1543      0.068      2.258      0.026       0.018       0.290\n",
      "==============================================================================\n",
      "Omnibus:                       23.654   Durbin-Watson:                   2.003\n",
      "Prob(Omnibus):                  0.000   Jarque-Bera (JB):               37.947\n",
      "Skew:                           1.075   Prob(JB):                     5.75e-09\n",
      "Kurtosis:                       5.273   Cond. No.                         28.3\n",
      "==============================================================================\n",
      "\n",
      "Warnings:\n",
      "[1] Standard Errors assume that the covariance matrix of the errors is correctly specified.\n"
     ]
    }
   ],
   "source": [
    "print(reg1.summary())"
   ]
  },
  {
   "cell_type": "code",
   "execution_count": 12,
   "metadata": {},
   "outputs": [],
   "source": [
    "#接下来需要求得rA\n",
    "#如果原来的表中有以前所得到的回归，那么删除这一列\n",
    "if 'ra' in df.columns.values:\n",
    "    print('已删除原有的rA值')\n",
    "    df.drop(columns='ra',axis=1,inplace=True)"
   ]
  },
  {
   "cell_type": "code",
   "execution_count": 13,
   "metadata": {},
   "outputs": [],
   "source": [
    "#根据各个因子的系数计算rA\n",
    "for i in independent0:\n",
    "    df['ra']=df.apply(lambda x: (reg1.params[i])*(x[i]), axis=1)#生成ractive"
   ]
  },
  {
   "cell_type": "code",
   "execution_count": 14,
   "metadata": {},
   "outputs": [
    {
     "name": "stdout",
     "output_type": "stream",
     "text": [
      "原文件删除成功\n"
     ]
    }
   ],
   "source": [
    "#规整表格，输出rA的值\n",
    "messup(df,path)\n",
    "df.to_csv(path)"
   ]
  },
  {
   "cell_type": "code",
   "execution_count": 15,
   "metadata": {},
   "outputs": [],
   "source": [
    "# if (os.path.exists(path_regression)):\n",
    "#     os.remove(path_regression)\n",
    "#     print(\"原文件删除成功\")\n",
    "# else:\n",
    "#     print(\"原文件不存在，创建新的原文件\")\n",
    "\n",
    "# reg.params.to_csv(path_regression)\n",
    "# df=pd.read_csv(path_regression,names=['param','coe'])\n"
   ]
  },
  {
   "cell_type": "code",
   "execution_count": 16,
   "metadata": {},
   "outputs": [],
   "source": [
    "#设定年化率4%，在此情况下选用月收益率作为无风险利率\n",
    "r=pow(1.04,12)-1"
   ]
  },
  {
   "cell_type": "code",
   "execution_count": 17,
   "metadata": {},
   "outputs": [],
   "source": [
    "#接下来需要求得rA\n",
    "#如果原来的表中有以前所得到的回归，那么删除这一列\n",
    "if 'style' in df.columns.values:\n",
    "    print('已删除原有的style值')\n",
    "    df.drop(columns='style',axis=1,inplace=True)"
   ]
  },
  {
   "cell_type": "code",
   "execution_count": 18,
   "metadata": {},
   "outputs": [],
   "source": [
    "#最后计算r_Buffetstyle\n",
    "df['style']=df.apply(lambda x: r + (x['MKT'])*(reg.params[independent])+x['ra'], axis=1)#生成ractive\n"
   ]
  },
  {
   "cell_type": "code",
   "execution_count": 19,
   "metadata": {},
   "outputs": [
    {
     "name": "stdout",
     "output_type": "stream",
     "text": [
      "原文件删除成功\n"
     ]
    }
   ],
   "source": [
    "messup(df,path)\n",
    "df.to_csv(path)"
   ]
  },
  {
   "cell_type": "code",
   "execution_count": 20,
   "metadata": {},
   "outputs": [],
   "source": [
    "#最后表格里面得到的style代表着巴菲特投资组合的风格，\n",
    "#即\"matches Berkshire’s beta, idiosyncratic volatility, total volatility, and relative active loadings\""
   ]
  },
  {
   "cell_type": "code",
   "execution_count": 127,
   "metadata": {},
   "outputs": [],
   "source": []
  },
  {
   "cell_type": "code",
   "execution_count": null,
   "metadata": {},
   "outputs": [],
   "source": []
  }
 ],
 "metadata": {
  "kernelspec": {
   "display_name": "Python 3",
   "language": "python",
   "name": "python3"
  },
  "language_info": {
   "codemirror_mode": {
    "name": "ipython",
    "version": 3
   },
   "file_extension": ".py",
   "mimetype": "text/x-python",
   "name": "python",
   "nbconvert_exporter": "python",
   "pygments_lexer": "ipython3",
   "version": "3.6.7"
  }
 },
 "nbformat": 4,
 "nbformat_minor": 2
}

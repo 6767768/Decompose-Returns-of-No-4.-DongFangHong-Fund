{
 "cells": [
  {
   "cell_type": "code",
   "execution_count": 5,
   "metadata": {},
   "outputs": [],
   "source": [
    "import pandas as pd\n",
    "import csv\n",
    "import datetime\n",
    "import numpy as np\n",
    "from statsmodels.api import OLS\n",
    "import matplotlib.pyplot as plt\n",
    "import os\n",
    "import re\n",
    "import statsmodels.api as sm\n",
    "from scipy import stats"
   ]
  },
  {
   "cell_type": "code",
   "execution_count": 6,
   "metadata": {},
   "outputs": [],
   "source": [
    "#此回归是不带巴菲特特有beta的回归，运行此回归的目的是将alpha变得不显著\n",
    "path='F:/test/month.csv'\n",
    "path_store=\"F:/test/multi-regression\"\n",
    "path_regression='F:/test/reg.csv'"
   ]
  },
  {
   "cell_type": "code",
   "execution_count": 7,
   "metadata": {},
   "outputs": [],
   "source": [
    "df=pd.read_csv(path)"
   ]
  },
  {
   "cell_type": "code",
   "execution_count": 8,
   "metadata": {},
   "outputs": [
    {
     "data": {
      "text/plain": [
       "array(['monthly rate input', 'size', 'beta', 'roa_ttm', 'momentum', 'EP',\n",
       "       'fuquan', 'MKT', 't', 'premium'], dtype=object)"
      ]
     },
     "execution_count": 8,
     "metadata": {},
     "output_type": "execute_result"
    }
   ],
   "source": [
    "df.columns.values"
   ]
  },
  {
   "cell_type": "code",
   "execution_count": 9,
   "metadata": {},
   "outputs": [],
   "source": [
    "#independent=['size', 'book_to_price_ratio', 'beta','MKT','money_flow_20','liquidity','residual_volatility','BIAS60','earnings_yield','financial_expense_rate','roa_ttm']#将要进行回归的自变量加入到列表中去\n",
    "independent=['size','beta','roa_ttm','MKT','EP','momentum']\n",
    "dependent=['premium']"
   ]
  },
  {
   "cell_type": "code",
   "execution_count": 10,
   "metadata": {},
   "outputs": [],
   "source": [
    "x=df[independent]\n",
    "y=df[dependent]"
   ]
  },
  {
   "cell_type": "code",
   "execution_count": 11,
   "metadata": {},
   "outputs": [],
   "source": [
    "#model=sm.OLS(pd.DataFrame(df.loc[:,['open']].values.T).values[0],pd.DataFrame(df.loc[:,['t']].values.T).values[0])\n",
    "x=sm.add_constant(x)\n",
    "reg=sm.OLS(y,x).fit()"
   ]
  },
  {
   "cell_type": "code",
   "execution_count": 12,
   "metadata": {
    "scrolled": false
   },
   "outputs": [
    {
     "name": "stdout",
     "output_type": "stream",
     "text": [
      "                            OLS Regression Results                            \n",
      "==============================================================================\n",
      "Dep. Variable:                premium   R-squared:                       0.736\n",
      "Model:                            OLS   Adj. R-squared:                  0.718\n",
      "Method:                 Least Squares   F-statistic:                     40.06\n",
      "Date:                Thu, 07 Nov 2019   Prob (F-statistic):           6.78e-23\n",
      "Time:                        16:05:38   Log-Likelihood:                 184.13\n",
      "No. Observations:                  93   AIC:                            -354.3\n",
      "Df Residuals:                      86   BIC:                            -336.5\n",
      "Df Model:                           6                                         \n",
      "Covariance Type:            nonrobust                                         \n",
      "==============================================================================\n",
      "                 coef    std err          t      P>|t|      [0.025      0.975]\n",
      "------------------------------------------------------------------------------\n",
      "const          0.0102      0.004      2.812      0.006       0.003       0.017\n",
      "size           0.0314      0.055      0.567      0.572      -0.079       0.141\n",
      "beta          -0.1712      0.069     -2.487      0.015      -0.308      -0.034\n",
      "roa_ttm       -0.2918      0.090     -3.226      0.002      -0.472      -0.112\n",
      "MKT            0.7849      0.061     12.928      0.000       0.664       0.906\n",
      "EP             0.1968      0.035      5.618      0.000       0.127       0.266\n",
      "momentum       0.0680      0.067      1.018      0.311      -0.065       0.201\n",
      "==============================================================================\n",
      "Omnibus:                       23.636   Durbin-Watson:                   2.069\n",
      "Prob(Omnibus):                  0.000   Jarque-Bera (JB):               39.835\n",
      "Skew:                           1.044   Prob(JB):                     2.24e-09\n",
      "Kurtosis:                       5.432   Cond. No.                         30.4\n",
      "==============================================================================\n",
      "\n",
      "Warnings:\n",
      "[1] Standard Errors assume that the covariance matrix of the errors is correctly specified.\n"
     ]
    }
   ],
   "source": [
    "print(reg.summary())"
   ]
  },
  {
   "cell_type": "code",
   "execution_count": null,
   "metadata": {},
   "outputs": [],
   "source": []
  },
  {
   "cell_type": "code",
   "execution_count": null,
   "metadata": {},
   "outputs": [],
   "source": []
  }
 ],
 "metadata": {
  "kernelspec": {
   "display_name": "Python 3",
   "language": "python",
   "name": "python3"
  },
  "language_info": {
   "codemirror_mode": {
    "name": "ipython",
    "version": 3
   },
   "file_extension": ".py",
   "mimetype": "text/x-python",
   "name": "python",
   "nbconvert_exporter": "python",
   "pygments_lexer": "ipython3",
   "version": "3.6.7"
  }
 },
 "nbformat": 4,
 "nbformat_minor": 2
}

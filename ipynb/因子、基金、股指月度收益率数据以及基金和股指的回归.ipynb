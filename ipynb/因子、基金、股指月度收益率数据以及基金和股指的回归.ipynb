{
 "cells": [
  {
   "cell_type": "code",
   "execution_count": 14,
   "metadata": {},
   "outputs": [],
   "source": [
    "import pandas as pd\n",
    "import csv\n",
    "import datetime\n",
    "import numpy as np\n",
    "from statsmodels.api import OLS\n",
    "import matplotlib.pyplot as plt\n",
    "import os\n",
    "import re\n",
    "import statsmodels.api as sm\n",
    "from scipy import stats"
   ]
  },
  {
   "cell_type": "code",
   "execution_count": 15,
   "metadata": {},
   "outputs": [],
   "source": [
    "#处理每个因子的月度收益率\n",
    "#index='beta'#处理的数据字段\n",
    "time='time'#对应的时间字段\n",
    "path2='F:/test/month.csv'\n",
    "path_return='F:/test/test.csv'"
   ]
  },
  {
   "cell_type": "code",
   "execution_count": 16,
   "metadata": {},
   "outputs": [],
   "source": [
    "def process_csv(path2,docket,index):\n",
    "    if (os.path.exists(path2)==False):\n",
    "        with open(path2,'w') as f:\n",
    "            f.write('monthly rate input\\n')\n",
    "#path_return为净值的csv\n",
    "    cache=pd.DataFrame(docket,columns=[index])\n",
    "    temp=pd.read_csv(path2)\n",
    "    temp=pd.concat([temp,cache],axis=1)\n",
    "    messup(temp,path2)\n",
    "    temp.to_csv(path2,index=False,header=True)\n",
    "    print('数据计算完成')\n",
    "\n",
    "def process_month_return(index,time,path_return,path2):\n",
    "    #path路径为读取保存每日净值文件的csv\n",
    "    df=pd.read_csv(path_return,encoding=\"gbk\")\n",
    "    date=len(df.loc[:,[time]])-1\n",
    "    #处理股指的月收益率\n",
    "    docket=[]\n",
    "\n",
    "    value=df.loc[[date],[index]].values[0][0]\n",
    "    temp=(datetime.datetime.strptime(df.loc[[0],[time]].values[0][0],'%Y/%m/%d %H:%M')).month\n",
    "    for i in range(0,date,1):\n",
    "\n",
    "        if (temp!=(datetime.datetime.strptime(df.loc[[i],[time]].values[0][0],'%Y/%m/%d %H:%M')).month):\n",
    "            docket.append((df.loc[[i],[index]].values[0][0]-value)/value)\n",
    "            value=df.loc[[i],[index]].values[0][0]\n",
    "\n",
    "        temp=(datetime.datetime.strptime(df.loc[[i],[time]].values[0][0],'%Y/%m/%d %H:%M')).month\n",
    "\n",
    "    docket.append((df.loc[[0],[index]].values[0][0]-value)/value) #加上最后一天的月收益率\n",
    "    \n",
    "    process_csv(path2,docket,index)\n",
    "#表格规整\n",
    "def messup(df,path):\n",
    "    for i in range(10):\n",
    "        if 'Unnamed: 0' in df.columns.values:\n",
    "            df.drop(columns='Unnamed: 0',axis=1,inplace=True)\n",
    "            print('已删除多余的Unnamed: 0列')\n",
    "        elif 'Unnamed: 0.1' in df.columns.values:\n",
    "            df.drop(columns='Unnamed: 0.1',axis=1,inplace=True)\n",
    "            print('已删除多余的Unnamed: 0.1列')\n",
    "        elif 'Unnamed: 0.1.1' in df.columns.values:\n",
    "            df.drop(columns='Unnamed: 0.1.1',axis=1,inplace=True)\n",
    "            print('已删除多余的Unnamed: 0.1.1列')\n",
    "        elif 'Unnamed: 0.1.1.1' in df.columns.values:\n",
    "            df.drop(columns='Unnamed: 0.1.1.1',axis=1,inplace=True)\n",
    "            print('已删除多余的Unnamed: 0.1.1.1列')\n",
    "        elif 'Unnamed: 0.1.1.1.1' in df.columns.values:\n",
    "            df.drop(columns='Unnamed: 0.1.1.1.1',axis=1,inplace=True)\n",
    "            print('已删除多余的Unnamed: 0.1.1.1.1列')\n",
    "    if (os.path.exists(path)):\n",
    "        os.remove(path)"
   ]
  },
  {
   "cell_type": "code",
   "execution_count": 17,
   "metadata": {},
   "outputs": [
    {
     "name": "stdout",
     "output_type": "stream",
     "text": [
      "原文件删除成功\n"
     ]
    }
   ],
   "source": [
    "if (os.path.exists(path2)):\n",
    "    os.remove(path2)\n",
    "    print(\"原文件删除成功\")\n",
    "else:\n",
    "    print(\"原文件不存在，创建新的原文件\")"
   ]
  },
  {
   "cell_type": "code",
   "execution_count": 18,
   "metadata": {},
   "outputs": [
    {
     "name": "stdout",
     "output_type": "stream",
     "text": [
      "数据计算完成\n",
      "数据计算完成\n",
      "数据计算完成\n",
      "数据计算完成\n",
      "数据计算完成\n",
      "计算完成\n"
     ]
    }
   ],
   "source": [
    "#有时时间格式会发生报错，要么换成%Y-%m-%d %H:%M:%S要么换成%Y/%m/%d %H:%M:%S要么根据报错提示换成别的形式\n",
    "p=pd.read_csv(path_return)\n",
    "for x in p.columns[1:]:\n",
    "    process_month_return(x,time,path_return,path2)\n",
    "print(\"计算完成\")"
   ]
  },
  {
   "cell_type": "code",
   "execution_count": 19,
   "metadata": {},
   "outputs": [],
   "source": [
    "#股指数据的选择并保存在本地   股指收益率文件index.csv\n",
    "#股指选择沪深300或者中证指数  基金收益率文件fund.csv\n",
    "#沪深300 000300.XSHG   中证700  000907.XSHG\n",
    "# https://www.joinquant.com/data/dict/indexData\n",
    "stock='000300.XSHG'\n",
    "info=get_price(stock, start_date='2009-4-13', end_date='2016-12-31', frequency='daily', fields='open', skip_paused=True, fq='pre')\n",
    "info.to_csv('F:/test/index.csv')"
   ]
  },
  {
   "cell_type": "code",
   "execution_count": 20,
   "metadata": {},
   "outputs": [],
   "source": [
    "#东方红基金月收益率计算\n",
    "#股指月收益率计算\n",
    "# -*- coding: utf-8 -*-\n",
    "#df=pd.read_csv(path,encoding=\"unicode_escape\")\n",
    "df_index=pd.read_csv(\"F:/test/index.csv\",encoding=\"gbk\")\n",
    "df_fund=pd.read_csv(\"F:/test/fund.csv\",encoding=\"gbk\")"
   ]
  },
  {
   "cell_type": "code",
   "execution_count": 21,
   "metadata": {},
   "outputs": [
    {
     "name": "stdout",
     "output_type": "stream",
     "text": [
      "数据计算完成\n"
     ]
    }
   ],
   "source": [
    "index='fuquan'#处理的数据字段\n",
    "time='riqi'#对应的时间字段\n",
    "\n",
    "date=len(df_fund.loc[:,[time]])-1\n",
    "#处理股指的月收益率\n",
    "docketfund=[]\n",
    "\n",
    "value=df_fund.loc[[date],[index]].values[0][0]\n",
    "temp=(datetime.datetime.strptime(df_fund.loc[[date],[time]].values[0][0],'%Y/%m/%d')).month\n",
    "for i in range(date,0,-1):\n",
    "        \n",
    "    if (temp!=(datetime.datetime.strptime(df_fund.loc[[i],[time]].values[0][0],'%Y/%m/%d')).month):\n",
    "        docketfund.append((df_fund.loc[[i],[index]].values[0][0]-value)/value)\n",
    "        value=df_fund.loc[[i],[index]].values[0][0]\n",
    "        \n",
    "    temp=(datetime.datetime.strptime(df_fund.loc[[i],[time]].values[0][0],'%Y/%m/%d')).month\n",
    "\n",
    "docketfund.append((df_fund.loc[[0],[index]].values[0][0]-value)/value) #加上最后一天的月收益率\n",
    "\n",
    "process_csv(path2,docketfund,index)"
   ]
  },
  {
   "cell_type": "code",
   "execution_count": 22,
   "metadata": {},
   "outputs": [
    {
     "name": "stdout",
     "output_type": "stream",
     "text": [
      "数据计算完成\n"
     ]
    }
   ],
   "source": [
    "index='MKT'#处理的数据字段\n",
    "time='time'#对应的时间字段\n",
    "#从平台上直接读取的数据有问题，需要索引规整\n",
    "df_index=df_index.rename(columns={'Unnamed: 0':'time','open':'MKT'})\n",
    "date=len(df_index.loc[:,[time]])-1\n",
    "#处理股指的月收益率\n",
    "docketindex=[]\n",
    "\n",
    "value=df_index.loc[[date],[index]].values[0][0]\n",
    "temp=(datetime.datetime.strptime(df_index.loc[[0],[time]].values[0][0],'%Y-%m-%d')).month\n",
    "for i in range(0,date,1):\n",
    "        \n",
    "    if (temp!=(datetime.datetime.strptime(df_index.loc[[i],[time]].values[0][0],'%Y-%m-%d')).month):\n",
    "        docketindex.append((df_index.loc[[i],[index]].values[0][0]-value)/value)\n",
    "        value=df_index.loc[[i],[index]].values[0][0]\n",
    "        \n",
    "    temp=(datetime.datetime.strptime(df_index.loc[[i],[time]].values[0][0],'%Y-%m-%d')).month\n",
    "\n",
    "docketindex.append((df_index.loc[[0],[index]].values[0][0]-value)/value) #加上最后一天的月收益率\n",
    "\n",
    "process_csv(path2,docketindex,index)"
   ]
  },
  {
   "cell_type": "code",
   "execution_count": 23,
   "metadata": {},
   "outputs": [],
   "source": [
    "#得到docketindex[]和docketfund[]这两个列表，包含了在这一时间段内指数和fund收益率的数据\n",
    "# docketfund=np.array(docketfund,dtype=np.float)\n",
    "# docketindex=np.array(docketindex,dtype=np.float)\n",
    "\n",
    "# docketfund=pd.Series(docketfund)\n",
    "# docketindex=pd.Series(docketindex)\n",
    "\n",
    "# docketfund.index = pd.Index(sm.tsa.datetools.dates_from_range('1',str(len(docketfund))))"
   ]
  },
  {
   "cell_type": "code",
   "execution_count": 24,
   "metadata": {},
   "outputs": [],
   "source": [
    "#计算超额收益率的部分"
   ]
  },
  {
   "cell_type": "code",
   "execution_count": 25,
   "metadata": {},
   "outputs": [],
   "source": [
    "#设定年化率4%，在此情况下选用月收益率作为无风险利率\n",
    "r=pow(1.04,12)-1"
   ]
  },
  {
   "cell_type": "code",
   "execution_count": 26,
   "metadata": {},
   "outputs": [],
   "source": [
    "#生成premium和时间索引两列\n",
    "df=pd.read_csv(path2)"
   ]
  },
  {
   "cell_type": "code",
   "execution_count": 27,
   "metadata": {},
   "outputs": [],
   "source": [
    "df['t']=list(range(1,len(df)+1))#生成时间\n",
    "df['premium']=df.apply(lambda x: x['fuquan'] - 0.01*r, axis=1)#生成超额收益"
   ]
  },
  {
   "cell_type": "code",
   "execution_count": 28,
   "metadata": {},
   "outputs": [],
   "source": [
    "messup(df,path2)\n",
    "df.to_csv(path2,index=False,header=True)#重新存取到csv文件"
   ]
  },
  {
   "cell_type": "code",
   "execution_count": null,
   "metadata": {},
   "outputs": [],
   "source": []
  },
  {
   "cell_type": "code",
   "execution_count": 181,
   "metadata": {},
   "outputs": [],
   "source": [
    "#一元线性回归部分，确定指数\n",
    "#综合比较沪深300、中证500、中证800、上证50，显然沪深300的相关性最好\n",
    "time='time'#对应的时间字段\n",
    "path_month='F:/test/month.csv'"
   ]
  },
  {
   "cell_type": "code",
   "execution_count": 182,
   "metadata": {},
   "outputs": [],
   "source": [
    "x=pd.read_csv(path_month)"
   ]
  },
  {
   "cell_type": "code",
   "execution_count": 184,
   "metadata": {},
   "outputs": [],
   "source": [
    "model=sm.OLS(list(x.fuquan.values),list(x.MKT.values))\n",
    "reg=model.fit()"
   ]
  },
  {
   "cell_type": "code",
   "execution_count": 185,
   "metadata": {},
   "outputs": [
    {
     "name": "stdout",
     "output_type": "stream",
     "text": [
      "                            OLS Regression Results                            \n",
      "==============================================================================\n",
      "Dep. Variable:                      y   R-squared:                       0.538\n",
      "Model:                            OLS   Adj. R-squared:                  0.533\n",
      "Method:                 Least Squares   F-statistic:                     107.2\n",
      "Date:                Wed, 06 Nov 2019   Prob (F-statistic):           4.11e-17\n",
      "Time:                        16:38:27   Log-Likelihood:                 153.75\n",
      "No. Observations:                  93   AIC:                            -305.5\n",
      "Df Residuals:                      92   BIC:                            -303.0\n",
      "Df Model:                           1                                         \n",
      "Covariance Type:            nonrobust                                         \n",
      "==============================================================================\n",
      "                 coef    std err          t      P>|t|      [0.025      0.975]\n",
      "------------------------------------------------------------------------------\n",
      "x1             0.5612      0.054     10.355      0.000       0.454       0.669\n",
      "==============================================================================\n",
      "Omnibus:                       19.315   Durbin-Watson:                   1.719\n",
      "Prob(Omnibus):                  0.000   Jarque-Bera (JB):               28.807\n",
      "Skew:                           0.914   Prob(JB):                     5.55e-07\n",
      "Kurtosis:                       5.024   Cond. No.                         1.00\n",
      "==============================================================================\n",
      "\n",
      "Warnings:\n",
      "[1] Standard Errors assume that the covariance matrix of the errors is correctly specified.\n"
     ]
    }
   ],
   "source": [
    "print(reg.summary())"
   ]
  },
  {
   "cell_type": "code",
   "execution_count": null,
   "metadata": {},
   "outputs": [],
   "source": []
  }
 ],
 "metadata": {
  "kernelspec": {
   "display_name": "Python 3",
   "language": "python",
   "name": "python3"
  },
  "language_info": {
   "codemirror_mode": {
    "name": "ipython",
    "version": 3
   },
   "file_extension": ".py",
   "mimetype": "text/x-python",
   "name": "python",
   "nbconvert_exporter": "python",
   "pygments_lexer": "ipython3",
   "version": "3.6.7"
  }
 },
 "nbformat": 4,
 "nbformat_minor": 2
}
